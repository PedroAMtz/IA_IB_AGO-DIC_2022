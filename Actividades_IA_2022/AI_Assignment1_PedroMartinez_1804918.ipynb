{
  "nbformat": 4,
  "nbformat_minor": 0,
  "metadata": {
    "colab": {
      "provenance": [],
      "collapsed_sections": [],
      "authorship_tag": "ABX9TyO9zxGAUPPNPzRaikWxq+od",
      "include_colab_link": true
    },
    "kernelspec": {
      "name": "python3",
      "display_name": "Python 3"
    },
    "language_info": {
      "name": "python"
    }
  },
  "cells": [
    {
      "cell_type": "markdown",
      "metadata": {
        "id": "view-in-github",
        "colab_type": "text"
      },
      "source": [
        "<a href=\"https://colab.research.google.com/github/PedroAMtz/IA_IB_AGO-DIC_2022/blob/main/Actividades_IA_2022/AI_Assignment1_PedroMartinez_1804918.ipynb\" target=\"_parent\"><img src=\"https://colab.research.google.com/assets/colab-badge.svg\" alt=\"Open In Colab\"/></a>"
      ]
    },
    {
      "cell_type": "markdown",
      "source": [
        "# Assignment 1: Python Excersise"
      ],
      "metadata": {
        "id": "aBDZe7SP-NKl"
      }
    },
    {
      "cell_type": "code",
      "execution_count": null,
      "metadata": {
        "colab": {
          "base_uri": "https://localhost:8080/"
        },
        "id": "DBehOk2a8s8R",
        "outputId": "93797d89-90f8-4a26-f9da-e9e2e84c37b2"
      },
      "outputs": [
        {
          "output_type": "stream",
          "name": "stdout",
          "text": [
            "Enter your name: Pedro\n",
            "Welcome to Python, Pedro !!\n",
            "\n",
            "Hello there i like python\n",
            "Hello\n",
            "there\n",
            "i\n",
            "like\n",
            "python\n",
            "\n",
            "Random list generated: [21, 19, 10, 1, 24] \n",
            "\n",
            "Last item in the list: 24 \n",
            "\n",
            "Reversed list: [24, 1, 10, 19, 21]\n"
          ]
        }
      ],
      "source": [
        "\"\"\" Activity 1: Python excersise\n",
        "    Pedro Alfonso Martínez Barrón 1804918\n",
        "    Artifical Intelligence, Tuesdey N4-N6 \"\"\"\n",
        "\n",
        "import random\n",
        "import re\n",
        "\n",
        "class Activity_2:\n",
        "# Function to enter user name and greet with some name exceptions\n",
        "  def init_greet(self):\n",
        "    prohibited_names = ['Ana', 'John', 'Peter']\n",
        "    uname = input('Enter your name: ')\n",
        "\n",
        "    if uname not in prohibited_names:\n",
        "      print('Welcome to Python,', uname,'!!')\n",
        "    else:\n",
        "      print('Try to enter another name')\n",
        "    print('')\n",
        "\n",
        "# Function to input items in a list of strings\n",
        "  def list_string(self):\n",
        "\n",
        "    txt = input()\n",
        "    x = txt.rsplit() # this variable is a list\n",
        "\n",
        "    for word in x:\n",
        "        print(word)\n",
        "    print('')\n",
        "\n",
        "# Function to return the last element of a list and reverse th given list\n",
        "  def list_function(self):\n",
        "    random_list = []\n",
        "    for number in range(0,5):\n",
        "      number = random.randint(1,40)\n",
        "      random_list.append(number)\n",
        "    \n",
        "    print('Random list generated:', random_list, '\\n')\n",
        "    last = random_list[-1]\n",
        "\n",
        "    random_list.reverse()\n",
        "    print('Last item in the list:', last, '\\n')\n",
        "    print('Reversed list:', random_list)\n",
        "\n",
        "\n",
        "revision = Activity_2()\n",
        "\n",
        "revision.init_greet()\n",
        "revision.list_string()\n",
        "revision.list_function()\n"
      ]
    }
  ]
}